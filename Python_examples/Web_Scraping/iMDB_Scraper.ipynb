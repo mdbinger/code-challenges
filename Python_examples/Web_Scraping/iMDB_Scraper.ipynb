{
 "cells": [
  {
   "cell_type": "code",
   "execution_count": 1,
   "id": "669e0470",
   "metadata": {},
   "outputs": [],
   "source": [
    "# Import needed dependencies\n",
    "import requests\n",
    "import pandas as pd\n",
    "import numpy as np\n",
    "import scipy.stats as stats\n",
    "from datetime import date\n",
    "from bs4 import BeautifulSoup, Comment"
   ]
  },
  {
   "cell_type": "code",
   "execution_count": 52,
   "id": "2f9edb37",
   "metadata": {},
   "outputs": [
    {
     "name": "stdout",
     "output_type": "stream",
     "text": [
      "James Cagney 0000010\n",
      "Gary Cooper 0000011\n",
      "Bette Davis 0000012\n",
      "Doris Day 0000013\n",
      "Olivia de Havilland 0000014\n",
      "James Dean 0000015\n",
      "Georges Delerue 0000016\n",
      "Marlene Dietrich 0000017\n",
      "Kirk Douglas 0000018\n",
      "Federico Fellini 0000019\n"
     ]
    },
    {
     "data": {
      "text/html": [
       "<div>\n",
       "<style scoped>\n",
       "    .dataframe tbody tr th:only-of-type {\n",
       "        vertical-align: middle;\n",
       "    }\n",
       "\n",
       "    .dataframe tbody tr th {\n",
       "        vertical-align: top;\n",
       "    }\n",
       "\n",
       "    .dataframe thead th {\n",
       "        text-align: right;\n",
       "    }\n",
       "</style>\n",
       "<table border=\"1\" class=\"dataframe\">\n",
       "  <thead>\n",
       "    <tr style=\"text-align: right;\">\n",
       "      <th></th>\n",
       "      <th>Name</th>\n",
       "      <th>ID</th>\n",
       "    </tr>\n",
       "  </thead>\n",
       "  <tbody>\n",
       "    <tr>\n",
       "      <th>0</th>\n",
       "      <td>James Cagney</td>\n",
       "      <td>0000010</td>\n",
       "    </tr>\n",
       "    <tr>\n",
       "      <th>1</th>\n",
       "      <td>Gary Cooper</td>\n",
       "      <td>0000011</td>\n",
       "    </tr>\n",
       "    <tr>\n",
       "      <th>2</th>\n",
       "      <td>Bette Davis</td>\n",
       "      <td>0000012</td>\n",
       "    </tr>\n",
       "    <tr>\n",
       "      <th>3</th>\n",
       "      <td>Doris Day</td>\n",
       "      <td>0000013</td>\n",
       "    </tr>\n",
       "    <tr>\n",
       "      <th>4</th>\n",
       "      <td>Olivia de Havilland</td>\n",
       "      <td>0000014</td>\n",
       "    </tr>\n",
       "    <tr>\n",
       "      <th>5</th>\n",
       "      <td>James Dean</td>\n",
       "      <td>0000015</td>\n",
       "    </tr>\n",
       "    <tr>\n",
       "      <th>6</th>\n",
       "      <td>Georges Delerue</td>\n",
       "      <td>0000016</td>\n",
       "    </tr>\n",
       "    <tr>\n",
       "      <th>7</th>\n",
       "      <td>Marlene Dietrich</td>\n",
       "      <td>0000017</td>\n",
       "    </tr>\n",
       "    <tr>\n",
       "      <th>8</th>\n",
       "      <td>Kirk Douglas</td>\n",
       "      <td>0000018</td>\n",
       "    </tr>\n",
       "    <tr>\n",
       "      <th>9</th>\n",
       "      <td>Federico Fellini</td>\n",
       "      <td>0000019</td>\n",
       "    </tr>\n",
       "  </tbody>\n",
       "</table>\n",
       "</div>"
      ],
      "text/plain": [
       "                  Name       ID\n",
       "0         James Cagney  0000010\n",
       "1          Gary Cooper  0000011\n",
       "2          Bette Davis  0000012\n",
       "3            Doris Day  0000013\n",
       "4  Olivia de Havilland  0000014\n",
       "5           James Dean  0000015\n",
       "6      Georges Delerue  0000016\n",
       "7     Marlene Dietrich  0000017\n",
       "8         Kirk Douglas  0000018\n",
       "9     Federico Fellini  0000019"
      ]
     },
     "execution_count": 52,
     "metadata": {},
     "output_type": "execute_result"
    }
   ],
   "source": [
    "i = 10\n",
    "\n",
    "name_id_df = pd.DataFrame(columns = ['Name', 'ID'])\n",
    "\n",
    "\n",
    "while i < 20:\n",
    "\n",
    "    try:\n",
    "        x = str(i).rjust(7, \"0\")\n",
    "\n",
    "        url = f\"https://www.imdb.com/name/nm{x}/?ref_=nv_sr_srsg_0\"    \n",
    "        r = requests.get(url) # send the GET request to the URL\n",
    "\n",
    "        # locate the table from the html, store it in table and table_body variables\n",
    "        soup = BeautifulSoup(requests.get(url).content, 'html.parser')\n",
    "        tag = soup.select_one('.itemprop')\n",
    "        name = tag.get_text()\n",
    "\n",
    "        name_id_df=name_id_df.append({'Name': name,'ID':x}, ignore_index=True)\n",
    "\n",
    "        print(name, x)\n",
    "        i = i + 1\n",
    "        \n",
    "    except AttributeError:\n",
    "        print(f'{x} has no name')\n",
    "        name_id_df=name_id_df.append({'Name': \"Error\",'ID':x}, ignore_index=True)\n",
    "        i = i + 1\n",
    "    \n",
    "name_id_df"
   ]
  },
  {
   "cell_type": "code",
   "execution_count": 21,
   "id": "b1a487e0",
   "metadata": {},
   "outputs": [],
   "source": [
    "name"
   ]
  },
  {
   "cell_type": "code",
   "execution_count": 31,
   "id": "ab1f5d8a",
   "metadata": {},
   "outputs": [
    {
     "data": {
      "text/plain": [
       "2"
      ]
     },
     "execution_count": 31,
     "metadata": {},
     "output_type": "execute_result"
    }
   ],
   "source": [
    "len(str(i))"
   ]
  },
  {
   "cell_type": "code",
   "execution_count": null,
   "id": "39066369",
   "metadata": {},
   "outputs": [],
   "source": []
  }
 ],
 "metadata": {
  "kernelspec": {
   "display_name": "PythonData",
   "language": "python",
   "name": "pythondata"
  },
  "language_info": {
   "codemirror_mode": {
    "name": "ipython",
    "version": 3
   },
   "file_extension": ".py",
   "mimetype": "text/x-python",
   "name": "python",
   "nbconvert_exporter": "python",
   "pygments_lexer": "ipython3",
   "version": "3.9.7"
  }
 },
 "nbformat": 4,
 "nbformat_minor": 5
}
